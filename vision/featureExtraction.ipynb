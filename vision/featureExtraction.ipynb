{
 "cells": [
  {
   "cell_type": "code",
   "execution_count": 1,
   "metadata": {},
   "outputs": [
    {
     "name": "stderr",
     "output_type": "stream",
     "text": [
      "/usr/local/lib/python2.7/dist-packages/h5py/__init__.py:36: FutureWarning: Conversion of the second argument of issubdtype from `float` to `np.floating` is deprecated. In future, it will be treated as `np.float64 == np.dtype(float).type`.\n",
      "  from ._conv import register_converters as _register_converters\n",
      "Using TensorFlow backend.\n"
     ]
    }
   ],
   "source": [
    "from keras.applications import VGG16\n",
    "conv_base = VGG16(weights='imagenet', include_top=False, input_shape=(150, 150, 3))"
   ]
  },
  {
   "cell_type": "code",
   "execution_count": 2,
   "metadata": {},
   "outputs": [
    {
     "name": "stdout",
     "output_type": "stream",
     "text": [
      "_________________________________________________________________\n",
      "Layer (type)                 Output Shape              Param #   \n",
      "=================================================================\n",
      "input_1 (InputLayer)         (None, 150, 150, 3)       0         \n",
      "_________________________________________________________________\n",
      "block1_conv1 (Conv2D)        (None, 150, 150, 64)      1792      \n",
      "_________________________________________________________________\n",
      "block1_conv2 (Conv2D)        (None, 150, 150, 64)      36928     \n",
      "_________________________________________________________________\n",
      "block1_pool (MaxPooling2D)   (None, 75, 75, 64)        0         \n",
      "_________________________________________________________________\n",
      "block2_conv1 (Conv2D)        (None, 75, 75, 128)       73856     \n",
      "_________________________________________________________________\n",
      "block2_conv2 (Conv2D)        (None, 75, 75, 128)       147584    \n",
      "_________________________________________________________________\n",
      "block2_pool (MaxPooling2D)   (None, 37, 37, 128)       0         \n",
      "_________________________________________________________________\n",
      "block3_conv1 (Conv2D)        (None, 37, 37, 256)       295168    \n",
      "_________________________________________________________________\n",
      "block3_conv2 (Conv2D)        (None, 37, 37, 256)       590080    \n",
      "_________________________________________________________________\n",
      "block3_conv3 (Conv2D)        (None, 37, 37, 256)       590080    \n",
      "_________________________________________________________________\n",
      "block3_pool (MaxPooling2D)   (None, 18, 18, 256)       0         \n",
      "_________________________________________________________________\n",
      "block4_conv1 (Conv2D)        (None, 18, 18, 512)       1180160   \n",
      "_________________________________________________________________\n",
      "block4_conv2 (Conv2D)        (None, 18, 18, 512)       2359808   \n",
      "_________________________________________________________________\n",
      "block4_conv3 (Conv2D)        (None, 18, 18, 512)       2359808   \n",
      "_________________________________________________________________\n",
      "block4_pool (MaxPooling2D)   (None, 9, 9, 512)         0         \n",
      "_________________________________________________________________\n",
      "block5_conv1 (Conv2D)        (None, 9, 9, 512)         2359808   \n",
      "_________________________________________________________________\n",
      "block5_conv2 (Conv2D)        (None, 9, 9, 512)         2359808   \n",
      "_________________________________________________________________\n",
      "block5_conv3 (Conv2D)        (None, 9, 9, 512)         2359808   \n",
      "_________________________________________________________________\n",
      "block5_pool (MaxPooling2D)   (None, 4, 4, 512)         0         \n",
      "=================================================================\n",
      "Total params: 14,714,688\n",
      "Trainable params: 14,714,688\n",
      "Non-trainable params: 0\n",
      "_________________________________________________________________\n"
     ]
    }
   ],
   "source": [
    "conv_base.summary()"
   ]
  },
  {
   "cell_type": "code",
   "execution_count": 3,
   "metadata": {},
   "outputs": [],
   "source": [
    "import os\n",
    "import numpy as np\n",
    "base_dir = '/home/vplentz/Documentos/ml/begginer/deep/book/vision/catsndogs'\n",
    "train_dir = os.path.join(base_dir, 'train')\n",
    "validation_dir = os.path.join(base_dir, 'validation')\n",
    "test_dir = os.path.join(base_dir, 'test')"
   ]
  },
  {
   "cell_type": "code",
   "execution_count": 4,
   "metadata": {},
   "outputs": [
    {
     "name": "stdout",
     "output_type": "stream",
     "text": [
      "Found 2000 images belonging to 2 classes.\n",
      "Found 1000 images belonging to 2 classes.\n",
      "Found 1000 images belonging to 2 classes.\n"
     ]
    }
   ],
   "source": [
    "import numpy as np\n",
    "from keras.preprocessing.image import ImageDataGenerator\n",
    "datagen = ImageDataGenerator(rescale=1./255)\n",
    "batch_size = 20\n",
    "def extract_features(directory, sample_count):\n",
    "    features = np.zeros(shape=(sample_count, 4, 4, 512))\n",
    "    labels = np.zeros(shape=(sample_count))\n",
    "    generator = datagen.flow_from_directory(directory, target_size=(150, 150), \n",
    "                                            batch_size=batch_size, class_mode='binary')\n",
    "    i = 0\n",
    "    for inputs_batch, labels_batch in generator:\n",
    "        features_batch = conv_base.predict(inputs_batch)\n",
    "        features[i * batch_size : (i + 1) * batch_size] = features_batch\n",
    "        labels[i * batch_size : (i + 1) * batch_size] = labels_batch\n",
    "        i += 1\n",
    "        if i * batch_size >= sample_count:\n",
    "            break\n",
    "    return features, labels\n",
    "train_features, train_labels = extract_features(train_dir, 2000)\n",
    "validation_features, validation_labels = extract_features(validation_dir, 1000)\n",
    "test_features, test_labels = extract_features(test_dir, 1000)"
   ]
  },
  {
   "cell_type": "code",
   "execution_count": null,
   "metadata": {},
   "outputs": [],
   "source": [
    "train_features = np.reshape(train_features, (2000, 4 * 4 * 512))\n",
    "validation_features = np.reshape(validation_features, (1000, 4 * 4 * 512))\n",
    "test_features = np.reshape(test_features, (1000, 4 * 4 * 512))"
   ]
  },
  {
   "cell_type": "code",
   "execution_count": 11,
   "metadata": {},
   "outputs": [
    {
     "name": "stdout",
     "output_type": "stream",
     "text": [
      "Train on 2000 samples, validate on 1000 samples\n",
      "Epoch 1/30\n",
      "2000/2000 [==============================] - 4s 2ms/step - loss: 0.5971 - acc: 0.6615 - val_loss: 0.4540 - val_acc: 0.8390\n",
      "Epoch 2/30\n",
      "2000/2000 [==============================] - 3s 2ms/step - loss: 0.4370 - acc: 0.8150 - val_loss: 0.3709 - val_acc: 0.8640\n",
      "Epoch 3/30\n",
      "2000/2000 [==============================] - 3s 2ms/step - loss: 0.3554 - acc: 0.8480 - val_loss: 0.3291 - val_acc: 0.8710\n",
      "Epoch 4/30\n",
      "2000/2000 [==============================] - 3s 2ms/step - loss: 0.3198 - acc: 0.8705 - val_loss: 0.3178 - val_acc: 0.8680\n",
      "Epoch 5/30\n",
      "2000/2000 [==============================] - 3s 2ms/step - loss: 0.2892 - acc: 0.8825 - val_loss: 0.2906 - val_acc: 0.8810\n",
      "Epoch 6/30\n",
      "2000/2000 [==============================] - 3s 2ms/step - loss: 0.2645 - acc: 0.8930 - val_loss: 0.2796 - val_acc: 0.8830\n",
      "Epoch 7/30\n",
      "2000/2000 [==============================] - 3s 2ms/step - loss: 0.2581 - acc: 0.9005 - val_loss: 0.2688 - val_acc: 0.8910\n",
      "Epoch 8/30\n",
      "2000/2000 [==============================] - 3s 2ms/step - loss: 0.2399 - acc: 0.9060 - val_loss: 0.2622 - val_acc: 0.8940\n",
      "Epoch 9/30\n",
      "2000/2000 [==============================] - 3s 2ms/step - loss: 0.2346 - acc: 0.9100 - val_loss: 0.2568 - val_acc: 0.8960\n",
      "Epoch 10/30\n",
      "2000/2000 [==============================] - 3s 2ms/step - loss: 0.2122 - acc: 0.9180 - val_loss: 0.2522 - val_acc: 0.9010\n",
      "Epoch 11/30\n",
      "2000/2000 [==============================] - 3s 2ms/step - loss: 0.2069 - acc: 0.9225 - val_loss: 0.2495 - val_acc: 0.8970\n",
      "Epoch 12/30\n",
      "2000/2000 [==============================] - 3s 2ms/step - loss: 0.1980 - acc: 0.9285 - val_loss: 0.2456 - val_acc: 0.9010\n",
      "Epoch 13/30\n",
      "2000/2000 [==============================] - 3s 2ms/step - loss: 0.1885 - acc: 0.9340 - val_loss: 0.2440 - val_acc: 0.9030\n",
      "Epoch 14/30\n",
      "2000/2000 [==============================] - 3s 2ms/step - loss: 0.1776 - acc: 0.9380 - val_loss: 0.2437 - val_acc: 0.9020\n",
      "Epoch 15/30\n",
      "2000/2000 [==============================] - 3s 2ms/step - loss: 0.1709 - acc: 0.9410 - val_loss: 0.2398 - val_acc: 0.9030\n",
      "Epoch 16/30\n",
      "2000/2000 [==============================] - 3s 2ms/step - loss: 0.1612 - acc: 0.9400 - val_loss: 0.2386 - val_acc: 0.9020\n",
      "Epoch 17/30\n",
      "2000/2000 [==============================] - 3s 2ms/step - loss: 0.1588 - acc: 0.9425 - val_loss: 0.2409 - val_acc: 0.9020\n",
      "Epoch 18/30\n",
      "2000/2000 [==============================] - 3s 2ms/step - loss: 0.1480 - acc: 0.9515 - val_loss: 0.2467 - val_acc: 0.8970\n",
      "Epoch 19/30\n",
      "2000/2000 [==============================] - 3s 2ms/step - loss: 0.1431 - acc: 0.9490 - val_loss: 0.2376 - val_acc: 0.9020\n",
      "Epoch 20/30\n",
      "2000/2000 [==============================] - 3s 2ms/step - loss: 0.1391 - acc: 0.9540 - val_loss: 0.2383 - val_acc: 0.9010\n",
      "Epoch 21/30\n",
      "2000/2000 [==============================] - 3s 2ms/step - loss: 0.1326 - acc: 0.9520 - val_loss: 0.2370 - val_acc: 0.9020\n",
      "Epoch 22/30\n",
      "2000/2000 [==============================] - 3s 2ms/step - loss: 0.1331 - acc: 0.9560 - val_loss: 0.2378 - val_acc: 0.8990\n",
      "Epoch 23/30\n",
      "2000/2000 [==============================] - 3s 2ms/step - loss: 0.1276 - acc: 0.9595 - val_loss: 0.2353 - val_acc: 0.9040\n",
      "Epoch 24/30\n",
      "2000/2000 [==============================] - 3s 2ms/step - loss: 0.1202 - acc: 0.9610 - val_loss: 0.2394 - val_acc: 0.8970\n",
      "Epoch 25/30\n",
      "2000/2000 [==============================] - 3s 2ms/step - loss: 0.1164 - acc: 0.9575 - val_loss: 0.2485 - val_acc: 0.9000\n",
      "Epoch 26/30\n",
      "2000/2000 [==============================] - 3s 2ms/step - loss: 0.1101 - acc: 0.9630 - val_loss: 0.2369 - val_acc: 0.8980\n",
      "Epoch 27/30\n",
      "2000/2000 [==============================] - 3s 2ms/step - loss: 0.1050 - acc: 0.9660 - val_loss: 0.2385 - val_acc: 0.8990\n",
      "Epoch 28/30\n",
      "2000/2000 [==============================] - 3s 2ms/step - loss: 0.0971 - acc: 0.9715 - val_loss: 0.2476 - val_acc: 0.8960\n",
      "Epoch 29/30\n",
      "2000/2000 [==============================] - 3s 2ms/step - loss: 0.1027 - acc: 0.9655 - val_loss: 0.2437 - val_acc: 0.8980\n",
      "Epoch 30/30\n",
      "2000/2000 [==============================] - 3s 2ms/step - loss: 0.0942 - acc: 0.9695 - val_loss: 0.2435 - val_acc: 0.9010\n"
     ]
    }
   ],
   "source": [
    "from keras import models\n",
    "from keras import layers\n",
    "from keras import optimizers\n",
    "model = models.Sequential()\n",
    "model.add(layers.Dense(256, activation='relu', input_dim=4 * 4 * 512))\n",
    "model.add(layers.Dropout(0.5))\n",
    "model.add(layers.Dense(1, activation='sigmoid'))\n",
    "model.compile(optimizer=optimizers.RMSprop(lr=2e-5),\n",
    "loss='binary_crossentropy',\n",
    "metrics=['acc'])\n",
    "history = model.fit(train_features, train_labels,\n",
    "epochs=30,\n",
    "batch_size=20,\n",
    "validation_data=(validation_features, validation_labels))"
   ]
  },
  {
   "cell_type": "code",
   "execution_count": 13,
   "metadata": {},
   "outputs": [
    {
     "data": {
      "image/png": "[encoded data removed]",
      "text/plain": [
       "<matplotlib.figure.Figure at 0x7fbe9eebc610>"
      ]
     },
     "metadata": {},
     "output_type": "display_data"
    },
    {
     "data": {
      "image/png": "[encoded data removed]",
      "text/plain": [
       "<matplotlib.figure.Figure at 0x7fbeaf728950>"
      ]
     },
     "metadata": {},
     "output_type": "display_data"
    }
   ],
   "source": [
    "import matplotlib.pyplot as plt\n",
    "%matplotlib inline\n",
    "acc = history.history['acc']\n",
    "val_acc = history.history['val_acc']\n",
    "loss = history.history['loss']\n",
    "val_loss = history.history['val_loss']\n",
    "epochs = range(1, len(acc) + 1)\n",
    "plt.plot(epochs, acc, 'bo', label='Training acc')\n",
    "plt.plot(epochs, val_acc, 'b', label='Validation acc')\n",
    "plt.title('Training and validation accuracy')\n",
    "plt.legend()\n",
    "plt.figure()\n",
    "plt.plot(epochs, loss, 'bo', label='Training loss')\n",
    "plt.plot(epochs, val_loss, 'b', label='Validation loss')\n",
    "plt.title('Training and validation loss')\n",
    "plt.legend()\n",
    "plt.show()"
   ]
  },
  {
   "cell_type": "markdown",
   "metadata": {},
   "source": [
    "with data augmentation"
   ]
  },
  {
   "cell_type": "code",
   "execution_count": 3,
   "metadata": {},
   "outputs": [],
   "source": [
    "from keras import models\n",
    "from keras import layers\n",
    "model = models.Sequential()\n",
    "model.add(conv_base)\n",
    "model.add(layers.Flatten())\n",
    "model.add(layers.Dense(256, activation='relu'))\n",
    "model.add(layers.Dense(1, activation='sigmoid'))"
   ]
  },
  {
   "cell_type": "code",
   "execution_count": 4,
   "metadata": {},
   "outputs": [
    {
     "name": "stdout",
     "output_type": "stream",
     "text": [
      "_________________________________________________________________\n",
      "Layer (type)                 Output Shape              Param #   \n",
      "=================================================================\n",
      "vgg16 (Model)                (None, 4, 4, 512)         14714688  \n",
      "_________________________________________________________________\n",
      "flatten_1 (Flatten)          (None, 8192)              0         \n",
      "_________________________________________________________________\n",
      "dense_1 (Dense)              (None, 256)               2097408   \n",
      "_________________________________________________________________\n",
      "dense_2 (Dense)              (None, 1)                 257       \n",
      "=================================================================\n",
      "Total params: 16,812,353\n",
      "Trainable params: 16,812,353\n",
      "Non-trainable params: 0\n",
      "_________________________________________________________________\n"
     ]
    }
   ],
   "source": [
    "model.summary()"
   ]
  },
  {
   "cell_type": "code",
   "execution_count": 5,
   "metadata": {},
   "outputs": [
    {
     "name": "stdout",
     "output_type": "stream",
     "text": [
      "('This is the number of trainable weights before freezing the conv base:', 30)\n"
     ]
    }
   ],
   "source": [
    "    print('This is the number of trainable weights '\n",
    "'before freezing the conv base:', len(model.trainable_weights))"
   ]
  },
  {
   "cell_type": "code",
   "execution_count": 6,
   "metadata": {},
   "outputs": [],
   "source": [
    "conv_base.trainable = False"
   ]
  },
  {
   "cell_type": "code",
   "execution_count": 7,
   "metadata": {},
   "outputs": [
    {
     "name": "stdout",
     "output_type": "stream",
     "text": [
      "('This is the number of trainable weights after freezing the conv base:', 4)\n"
     ]
    }
   ],
   "source": [
    "print('This is the number of trainable weights '\n",
    "'after freezing the conv base:', len(model.trainable_weights))"
   ]
  },
  {
   "cell_type": "code",
   "execution_count": 8,
   "metadata": {},
   "outputs": [
    {
     "name": "stdout",
     "output_type": "stream",
     "text": [
      "Found 2000 images belonging to 2 classes.\n",
      "Found 1000 images belonging to 2 classes.\n",
      "Epoch 1/30\n",
      "100/100 [==============================] - 86s 859ms/step - loss: 0.6017 - acc: 0.6855 - val_loss: 0.4594 - val_acc: 0.8200\n",
      "Epoch 2/30\n",
      "100/100 [==============================] - 68s 683ms/step - loss: 0.4880 - acc: 0.7780 - val_loss: 0.3689 - val_acc: 0.8550\n",
      "Epoch 3/30\n",
      "100/100 [==============================] - 69s 694ms/step - loss: 0.4280 - acc: 0.8125 - val_loss: 0.3354 - val_acc: 0.8640\n",
      "Epoch 4/30\n",
      "100/100 [==============================] - 68s 684ms/step - loss: 0.4103 - acc: 0.8075 - val_loss: 0.3098 - val_acc: 0.8690\n",
      "Epoch 5/30\n",
      "100/100 [==============================] - 68s 684ms/step - loss: 0.3811 - acc: 0.8280 - val_loss: 0.2935 - val_acc: 0.8760\n",
      "Epoch 6/30\n",
      "100/100 [==============================] - 69s 686ms/step - loss: 0.3681 - acc: 0.8390 - val_loss: 0.2812 - val_acc: 0.8900\n",
      "Epoch 7/30\n",
      "100/100 [==============================] - 69s 686ms/step - loss: 0.3581 - acc: 0.8460 - val_loss: 0.2737 - val_acc: 0.8940\n",
      "Epoch 8/30\n",
      "100/100 [==============================] - 69s 686ms/step - loss: 0.3441 - acc: 0.8560 - val_loss: 0.2702 - val_acc: 0.8890\n",
      "Epoch 9/30\n",
      "100/100 [==============================] - 69s 693ms/step - loss: 0.3423 - acc: 0.8550 - val_loss: 0.2625 - val_acc: 0.8940\n",
      "Epoch 10/30\n",
      "100/100 [==============================] - 69s 690ms/step - loss: 0.3353 - acc: 0.8555 - val_loss: 0.2578 - val_acc: 0.8960\n",
      "Epoch 11/30\n",
      "100/100 [==============================] - 69s 689ms/step - loss: 0.3290 - acc: 0.8590 - val_loss: 0.2530 - val_acc: 0.9000\n",
      "Epoch 12/30\n",
      "100/100 [==============================] - 69s 689ms/step - loss: 0.3259 - acc: 0.8650 - val_loss: 0.2512 - val_acc: 0.9000\n",
      "Epoch 13/30\n",
      "100/100 [==============================] - 69s 689ms/step - loss: 0.3154 - acc: 0.8595 - val_loss: 0.2494 - val_acc: 0.9010\n",
      "Epoch 14/30\n",
      "100/100 [==============================] - 69s 690ms/step - loss: 0.3126 - acc: 0.8660 - val_loss: 0.2496 - val_acc: 0.9010\n",
      "Epoch 15/30\n",
      "100/100 [==============================] - 69s 689ms/step - loss: 0.3059 - acc: 0.8670 - val_loss: 0.2495 - val_acc: 0.9010\n",
      "Epoch 16/30\n",
      "100/100 [==============================] - 69s 689ms/step - loss: 0.3210 - acc: 0.8650 - val_loss: 0.2516 - val_acc: 0.8910\n",
      "Epoch 17/30\n",
      "100/100 [==============================] - 69s 689ms/step - loss: 0.2980 - acc: 0.8700 - val_loss: 0.2476 - val_acc: 0.9020\n",
      "Epoch 18/30\n",
      "100/100 [==============================] - 69s 689ms/step - loss: 0.3037 - acc: 0.8620 - val_loss: 0.2460 - val_acc: 0.8970\n",
      "Epoch 19/30\n",
      "100/100 [==============================] - 69s 690ms/step - loss: 0.2998 - acc: 0.8715 - val_loss: 0.2474 - val_acc: 0.9020\n",
      "Epoch 20/30\n",
      "100/100 [==============================] - 69s 688ms/step - loss: 0.2936 - acc: 0.8685 - val_loss: 0.2757 - val_acc: 0.8750\n",
      "Epoch 21/30\n",
      "100/100 [==============================] - 69s 690ms/step - loss: 0.3035 - acc: 0.8670 - val_loss: 0.2573 - val_acc: 0.8970\n",
      "Epoch 22/30\n",
      "100/100 [==============================] - 69s 689ms/step - loss: 0.2920 - acc: 0.8815 - val_loss: 0.2502 - val_acc: 0.9040\n",
      "Epoch 23/30\n",
      "100/100 [==============================] - 69s 689ms/step - loss: 0.2904 - acc: 0.8755 - val_loss: 0.2444 - val_acc: 0.9020\n",
      "Epoch 24/30\n",
      "100/100 [==============================] - 69s 690ms/step - loss: 0.2821 - acc: 0.8870 - val_loss: 0.2424 - val_acc: 0.9020\n",
      "Epoch 25/30\n",
      "100/100 [==============================] - 69s 690ms/step - loss: 0.2719 - acc: 0.8880 - val_loss: 0.2434 - val_acc: 0.9000\n",
      "Epoch 26/30\n",
      "100/100 [==============================] - 72s 718ms/step - loss: 0.2947 - acc: 0.8830 - val_loss: 0.2448 - val_acc: 0.8970\n",
      "Epoch 27/30\n",
      "100/100 [==============================] - 69s 690ms/step - loss: 0.2843 - acc: 0.8745 - val_loss: 0.2438 - val_acc: 0.9010\n",
      "Epoch 28/30\n",
      "100/100 [==============================] - 69s 690ms/step - loss: 0.2764 - acc: 0.8855 - val_loss: 0.2438 - val_acc: 0.9000\n",
      "Epoch 29/30\n",
      "100/100 [==============================] - 69s 689ms/step - loss: 0.2848 - acc: 0.8770 - val_loss: 0.2446 - val_acc: 0.9050\n",
      "Epoch 30/30\n",
      "100/100 [==============================] - 69s 690ms/step - loss: 0.2827 - acc: 0.8875 - val_loss: 0.2481 - val_acc: 0.9000\n"
     ]
    }
   ],
   "source": [
    "from keras.preprocessing.image import ImageDataGenerator\n",
    "from keras import optimizers\n",
    "train_datagen = ImageDataGenerator( rescale=1./255, rotation_range=40, width_shift_range=0.2, \n",
    "                                   height_shift_range=0.2, shear_range=0.2, zoom_range=0.2, \n",
    "                                   horizontal_flip=True, fill_mode='nearest')\n",
    "test_datagen = ImageDataGenerator(rescale=1./255)\n",
    "train_generator = train_datagen.flow_from_directory(train_dir, target_size=(150, 150), \n",
    "                                                    batch_size=20, class_mode='binary')\n",
    "validation_generator = test_datagen.flow_from_directory( validation_dir, target_size=(150, 150), \n",
    "                                                        batch_size=20, class_mode='binary')\n",
    "model.compile(loss='binary_crossentropy', optimizer=optimizers.RMSprop(lr=2e-5), metrics=['acc'])\n",
    "history = model.fit_generator( train_generator, steps_per_epoch=100, epochs=30, \n",
    "                              validation_data=validation_generator, validation_steps=50)"
   ]
  },
  {
   "cell_type": "code",
   "execution_count": 9,
   "metadata": {},
   "outputs": [
    {
     "data": {
      "image/png": "[encoded data removed]",
      "text/plain": [
       "<matplotlib.figure.Figure at 0x7f9dd2161e10>"
      ]
     },
     "metadata": {},
     "output_type": "display_data"
    },
    {
     "data": {
      "image/png": "[encoded data removed]",
      "text/plain": [
       "<matplotlib.figure.Figure at 0x7f9dd0da2350>"
      ]
     },
     "metadata": {},
     "output_type": "display_data"
    }
   ],
   "source": [
    "import matplotlib.pyplot as plt\n",
    "%matplotlib inline\n",
    "acc = history.history['acc']\n",
    "val_acc = history.history['val_acc']\n",
    "loss = history.history['loss']\n",
    "val_loss = history.history['val_loss']\n",
    "epochs = range(1, len(acc) + 1)\n",
    "plt.plot(epochs, acc, 'bo', label='Training acc')\n",
    "plt.plot(epochs, val_acc, 'b', label='Validation acc')\n",
    "plt.title('Training and validation accuracy')\n",
    "plt.legend()\n",
    "plt.figure()\n",
    "plt.plot(epochs, loss, 'bo', label='Training loss')\n",
    "plt.plot(epochs, val_loss, 'b', label='Validation loss')\n",
    "plt.title('Training and validation loss')\n",
    "plt.legend()\n",
    "plt.show()"
   ]
  },
  {
   "cell_type": "code",
   "execution_count": null,
   "metadata": {},
   "outputs": [],
   "source": []
  }
 ],
 "metadata": {
  "kernelspec": {
   "display_name": "Python 3",
   "language": "python",
   "name": "python3"
  },
  "language_info": {
   "codemirror_mode": {
    "name": "ipython",
    "version": 2
   },
   "file_extension": ".py",
   "mimetype": "text/x-python",
   "name": "python",
   "nbconvert_exporter": "python",
   "pygments_lexer": "ipython2",
   "version": "2.7.12"
  }
 },
 "nbformat": 4,
 "nbformat_minor": 2
}
