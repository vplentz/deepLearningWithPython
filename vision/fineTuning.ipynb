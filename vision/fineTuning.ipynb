{
 "cells": [
  {
   "cell_type": "code",
   "execution_count": 1,
   "metadata": {},
   "outputs": [
    {
     "name": "stderr",
     "output_type": "stream",
     "text": [
      "/usr/local/lib/python2.7/dist-packages/h5py/__init__.py:36: FutureWarning: Conversion of the second argument of issubdtype from `float` to `np.floating` is deprecated. In future, it will be treated as `np.float64 == np.dtype(float).type`.\n",
      "  from ._conv import register_converters as _register_converters\n",
      "Using TensorFlow backend.\n"
     ]
    }
   ],
   "source": [
    "from keras.applications import VGG16\n",
    "conv_base = VGG16(weights='imagenet', include_top=False, input_shape=(150, 150, 3))"
   ]
  },
  {
   "cell_type": "code",
   "execution_count": 2,
   "metadata": {},
   "outputs": [
    {
     "name": "stdout",
     "output_type": "stream",
     "text": [
      "_________________________________________________________________\n",
      "Layer (type)                 Output Shape              Param #   \n",
      "=================================================================\n",
      "input_1 (InputLayer)         (None, 150, 150, 3)       0         \n",
      "_________________________________________________________________\n",
      "block1_conv1 (Conv2D)        (None, 150, 150, 64)      1792      \n",
      "_________________________________________________________________\n",
      "block1_conv2 (Conv2D)        (None, 150, 150, 64)      36928     \n",
      "_________________________________________________________________\n",
      "block1_pool (MaxPooling2D)   (None, 75, 75, 64)        0         \n",
      "_________________________________________________________________\n",
      "block2_conv1 (Conv2D)        (None, 75, 75, 128)       73856     \n",
      "_________________________________________________________________\n",
      "block2_conv2 (Conv2D)        (None, 75, 75, 128)       147584    \n",
      "_________________________________________________________________\n",
      "block2_pool (MaxPooling2D)   (None, 37, 37, 128)       0         \n",
      "_________________________________________________________________\n",
      "block3_conv1 (Conv2D)        (None, 37, 37, 256)       295168    \n",
      "_________________________________________________________________\n",
      "block3_conv2 (Conv2D)        (None, 37, 37, 256)       590080    \n",
      "_________________________________________________________________\n",
      "block3_conv3 (Conv2D)        (None, 37, 37, 256)       590080    \n",
      "_________________________________________________________________\n",
      "block3_pool (MaxPooling2D)   (None, 18, 18, 256)       0         \n",
      "_________________________________________________________________\n",
      "block4_conv1 (Conv2D)        (None, 18, 18, 512)       1180160   \n",
      "_________________________________________________________________\n",
      "block4_conv2 (Conv2D)        (None, 18, 18, 512)       2359808   \n",
      "_________________________________________________________________\n",
      "block4_conv3 (Conv2D)        (None, 18, 18, 512)       2359808   \n",
      "_________________________________________________________________\n",
      "block4_pool (MaxPooling2D)   (None, 9, 9, 512)         0         \n",
      "_________________________________________________________________\n",
      "block5_conv1 (Conv2D)        (None, 9, 9, 512)         2359808   \n",
      "_________________________________________________________________\n",
      "block5_conv2 (Conv2D)        (None, 9, 9, 512)         2359808   \n",
      "_________________________________________________________________\n",
      "block5_conv3 (Conv2D)        (None, 9, 9, 512)         2359808   \n",
      "_________________________________________________________________\n",
      "block5_pool (MaxPooling2D)   (None, 4, 4, 512)         0         \n",
      "=================================================================\n",
      "Total params: 14,714,688\n",
      "Trainable params: 14,714,688\n",
      "Non-trainable params: 0\n",
      "_________________________________________________________________\n"
     ]
    }
   ],
   "source": [
    "conv_base.summary()"
   ]
  },
  {
   "cell_type": "markdown",
   "metadata": {},
   "source": [
    "Setting directories"
   ]
  },
  {
   "cell_type": "code",
   "execution_count": 3,
   "metadata": {},
   "outputs": [],
   "source": [
    "import os\n",
    "import numpy as np\n",
    "base_dir = '/home/vplentz/Documentos/ml/begginer/deep/book/vision/catsndogs'\n",
    "train_dir = os.path.join(base_dir, 'train')\n",
    "validation_dir = os.path.join(base_dir, 'validation')\n",
    "test_dir = os.path.join(base_dir, 'test')"
   ]
  },
  {
   "cell_type": "markdown",
   "metadata": {},
   "source": [
    "Transforming input to the expected network input"
   ]
  },
  {
   "cell_type": "code",
   "execution_count": 4,
   "metadata": {},
   "outputs": [
    {
     "name": "stdout",
     "output_type": "stream",
     "text": [
      "Found 2000 images belonging to 2 classes.\n",
      "Found 1000 images belonging to 2 classes.\n"
     ]
    }
   ],
   "source": [
    "from keras.preprocessing.image import ImageDataGenerator\n",
    "from keras import optimizers\n",
    "train_datagen = ImageDataGenerator( rescale=1./255, rotation_range=40, width_shift_range=0.2, \n",
    "                                   height_shift_range=0.2, shear_range=0.2, zoom_range=0.2, \n",
    "                                   horizontal_flip=True, fill_mode='nearest')\n",
    "test_datagen = ImageDataGenerator(rescale=1./255)\n",
    "train_generator = train_datagen.flow_from_directory(train_dir, target_size=(150, 150), \n",
    "                                                    batch_size=20, class_mode='binary')\n",
    "validation_generator = test_datagen.flow_from_directory( validation_dir, target_size=(150, 150), \n",
    "                                                        batch_size=20, class_mode='binary')"
   ]
  },
  {
   "cell_type": "markdown",
   "metadata": {},
   "source": [
    "Putting a classifier at the end"
   ]
  },
  {
   "cell_type": "code",
   "execution_count": 5,
   "metadata": {},
   "outputs": [],
   "source": [
    "from keras import models\n",
    "from keras import layers\n",
    "model = models.Sequential()\n",
    "model.add(conv_base)\n",
    "model.add(layers.Flatten())\n",
    "model.add(layers.Dense(256, activation='relu'))\n",
    "model.add(layers.Dense(1, activation='sigmoid'))"
   ]
  },
  {
   "cell_type": "markdown",
   "metadata": {},
   "source": [
    "UNLOCKING the a convolution layer, so it can be trained as well"
   ]
  },
  {
   "cell_type": "code",
   "execution_count": 6,
   "metadata": {},
   "outputs": [],
   "source": [
    "conv_base.trainable = True\n",
    "set_trainable = False\n",
    "for layer in conv_base.layers:\n",
    "    if layer.name == 'block5_conv1':\n",
    "        set_trainable = True\n",
    "    if set_trainable:\n",
    "        layer.trainable = True\n",
    "    else:\n",
    "        layer.trainable = False"
   ]
  },
  {
   "cell_type": "code",
   "execution_count": 7,
   "metadata": {},
   "outputs": [
    {
     "name": "stdout",
     "output_type": "stream",
     "text": [
      "Epoch 1/100\n",
      "100/100 [==============================] - 94s 938ms/step - loss: 0.5626 - acc: 0.7080 - val_loss: 0.3448 - val_acc: 0.8590\n",
      "Epoch 2/100\n",
      "100/100 [==============================] - 79s 787ms/step - loss: 0.3957 - acc: 0.8175 - val_loss: 0.2596 - val_acc: 0.8920\n",
      "Epoch 3/100\n",
      "100/100 [==============================] - 79s 788ms/step - loss: 0.3118 - acc: 0.8630 - val_loss: 0.2239 - val_acc: 0.9010\n",
      "Epoch 4/100\n",
      "100/100 [==============================] - 79s 788ms/step - loss: 0.2891 - acc: 0.8670 - val_loss: 0.2179 - val_acc: 0.9060\n",
      "Epoch 5/100\n",
      "100/100 [==============================] - 79s 790ms/step - loss: 0.2729 - acc: 0.8860 - val_loss: 0.2088 - val_acc: 0.9200\n",
      "Epoch 6/100\n",
      "100/100 [==============================] - 82s 821ms/step - loss: 0.2363 - acc: 0.9000 - val_loss: 0.1801 - val_acc: 0.9150\n",
      "Epoch 7/100\n",
      "100/100 [==============================] - 83s 826ms/step - loss: 0.2310 - acc: 0.9010 - val_loss: 0.1945 - val_acc: 0.9180\n",
      "Epoch 8/100\n",
      "100/100 [==============================] - 81s 808ms/step - loss: 0.2231 - acc: 0.9065 - val_loss: 0.1911 - val_acc: 0.9170\n",
      "Epoch 9/100\n",
      "100/100 [==============================] - 83s 832ms/step - loss: 0.2064 - acc: 0.9160 - val_loss: 0.2019 - val_acc: 0.9090\n",
      "Epoch 10/100\n",
      "100/100 [==============================] - 83s 833ms/step - loss: 0.2004 - acc: 0.9190 - val_loss: 0.1731 - val_acc: 0.9270\n",
      "Epoch 11/100\n",
      "100/100 [==============================] - 83s 832ms/step - loss: 0.1908 - acc: 0.9250 - val_loss: 0.1848 - val_acc: 0.9200\n",
      "Epoch 12/100\n",
      "100/100 [==============================] - 81s 807ms/step - loss: 0.1907 - acc: 0.9240 - val_loss: 0.1715 - val_acc: 0.9310\n",
      "Epoch 13/100\n",
      "100/100 [==============================] - 84s 838ms/step - loss: 0.1699 - acc: 0.9270 - val_loss: 0.1676 - val_acc: 0.9310\n",
      "Epoch 14/100\n",
      "100/100 [==============================] - 82s 818ms/step - loss: 0.1760 - acc: 0.9310 - val_loss: 0.1661 - val_acc: 0.9310\n",
      "Epoch 15/100\n",
      "100/100 [==============================] - 83s 827ms/step - loss: 0.1632 - acc: 0.9330 - val_loss: 0.1938 - val_acc: 0.9270\n",
      "Epoch 16/100\n",
      "100/100 [==============================] - 83s 832ms/step - loss: 0.1530 - acc: 0.9445 - val_loss: 0.1761 - val_acc: 0.9310\n",
      "Epoch 17/100\n",
      "100/100 [==============================] - 78s 780ms/step - loss: 0.1429 - acc: 0.9415 - val_loss: 0.1598 - val_acc: 0.9350\n",
      "Epoch 18/100\n",
      "100/100 [==============================] - 78s 780ms/step - loss: 0.1536 - acc: 0.9400 - val_loss: 0.1573 - val_acc: 0.9340\n",
      "Epoch 19/100\n",
      "100/100 [==============================] - 78s 780ms/step - loss: 0.1540 - acc: 0.9370 - val_loss: 0.1694 - val_acc: 0.9330\n",
      "Epoch 20/100\n",
      "100/100 [==============================] - 79s 790ms/step - loss: 0.1393 - acc: 0.9420 - val_loss: 0.1742 - val_acc: 0.9270\n",
      "Epoch 21/100\n",
      "100/100 [==============================] - 82s 819ms/step - loss: 0.1382 - acc: 0.9510 - val_loss: 0.1775 - val_acc: 0.9310\n",
      "Epoch 22/100\n",
      "100/100 [==============================] - 84s 840ms/step - loss: 0.1270 - acc: 0.9480 - val_loss: 0.1615 - val_acc: 0.9320\n",
      "Epoch 23/100\n",
      "100/100 [==============================] - 85s 854ms/step - loss: 0.1183 - acc: 0.9510 - val_loss: 0.1796 - val_acc: 0.9330\n",
      "Epoch 24/100\n",
      "100/100 [==============================] - 85s 847ms/step - loss: 0.1089 - acc: 0.9535 - val_loss: 0.2705 - val_acc: 0.9140\n",
      "Epoch 25/100\n",
      "100/100 [==============================] - 87s 865ms/step - loss: 0.1167 - acc: 0.9530 - val_loss: 0.2010 - val_acc: 0.9270\n",
      "Epoch 26/100\n",
      "100/100 [==============================] - 85s 845ms/step - loss: 0.0969 - acc: 0.9625 - val_loss: 0.1741 - val_acc: 0.9290\n",
      "Epoch 27/100\n",
      "100/100 [==============================] - 79s 787ms/step - loss: 0.1000 - acc: 0.9625 - val_loss: 0.1671 - val_acc: 0.9380\n",
      "Epoch 28/100\n",
      "100/100 [==============================] - 79s 787ms/step - loss: 0.0961 - acc: 0.9665 - val_loss: 0.2303 - val_acc: 0.9260\n",
      "Epoch 29/100\n",
      "100/100 [==============================] - 79s 788ms/step - loss: 0.0984 - acc: 0.9635 - val_loss: 0.1723 - val_acc: 0.9290\n",
      "Epoch 30/100\n",
      "100/100 [==============================] - 79s 789ms/step - loss: 0.0910 - acc: 0.9585 - val_loss: 0.2099 - val_acc: 0.9320\n",
      "Epoch 31/100\n",
      "100/100 [==============================] - 79s 788ms/step - loss: 0.0905 - acc: 0.9675 - val_loss: 0.1732 - val_acc: 0.9310\n",
      "Epoch 32/100\n",
      "100/100 [==============================] - 79s 788ms/step - loss: 0.0899 - acc: 0.9635 - val_loss: 0.3096 - val_acc: 0.9090\n",
      "Epoch 33/100\n",
      "100/100 [==============================] - 79s 788ms/step - loss: 0.0767 - acc: 0.9720 - val_loss: 0.2026 - val_acc: 0.9270\n",
      "Epoch 34/100\n",
      "100/100 [==============================] - 79s 788ms/step - loss: 0.0826 - acc: 0.9705 - val_loss: 0.1742 - val_acc: 0.9310\n",
      "Epoch 35/100\n",
      "100/100 [==============================] - 79s 788ms/step - loss: 0.0808 - acc: 0.9655 - val_loss: 0.2189 - val_acc: 0.9240\n",
      "Epoch 36/100\n",
      "100/100 [==============================] - 79s 788ms/step - loss: 0.0840 - acc: 0.9675 - val_loss: 0.1803 - val_acc: 0.9340\n",
      "Epoch 37/100\n",
      "100/100 [==============================] - 78s 784ms/step - loss: 0.0754 - acc: 0.9710 - val_loss: 0.1962 - val_acc: 0.9260\n",
      "Epoch 38/100\n",
      "100/100 [==============================] - 79s 786ms/step - loss: 0.0797 - acc: 0.9700 - val_loss: 0.1730 - val_acc: 0.9310\n",
      "Epoch 39/100\n",
      "100/100 [==============================] - 78s 784ms/step - loss: 0.0798 - acc: 0.9715 - val_loss: 0.2261 - val_acc: 0.9260\n",
      "Epoch 40/100\n",
      "100/100 [==============================] - 78s 785ms/step - loss: 0.0651 - acc: 0.9765 - val_loss: 0.2080 - val_acc: 0.9320\n",
      "Epoch 41/100\n",
      "100/100 [==============================] - 81s 813ms/step - loss: 0.0735 - acc: 0.9710 - val_loss: 0.1859 - val_acc: 0.9350\n",
      "Epoch 42/100\n",
      "100/100 [==============================] - 79s 787ms/step - loss: 0.0784 - acc: 0.9675 - val_loss: 0.2073 - val_acc: 0.9250\n",
      "Epoch 43/100\n",
      "100/100 [==============================] - 79s 787ms/step - loss: 0.0581 - acc: 0.9805 - val_loss: 0.1997 - val_acc: 0.9400\n",
      "Epoch 44/100\n",
      "100/100 [==============================] - 79s 787ms/step - loss: 0.0688 - acc: 0.9720 - val_loss: 0.1674 - val_acc: 0.9350\n",
      "Epoch 45/100\n",
      "100/100 [==============================] - 79s 787ms/step - loss: 0.0533 - acc: 0.9805 - val_loss: 0.1978 - val_acc: 0.9330\n",
      "Epoch 46/100\n",
      "100/100 [==============================] - 79s 787ms/step - loss: 0.0630 - acc: 0.9750 - val_loss: 0.2092 - val_acc: 0.9350\n",
      "Epoch 47/100\n",
      "100/100 [==============================] - 79s 787ms/step - loss: 0.0552 - acc: 0.9770 - val_loss: 0.1958 - val_acc: 0.9350\n",
      "Epoch 48/100\n",
      "100/100 [==============================] - 79s 788ms/step - loss: 0.0538 - acc: 0.9810 - val_loss: 0.1981 - val_acc: 0.9350\n",
      "Epoch 49/100\n",
      "100/100 [==============================] - 79s 787ms/step - loss: 0.0537 - acc: 0.9765 - val_loss: 0.2110 - val_acc: 0.9370\n",
      "Epoch 50/100\n",
      "100/100 [==============================] - 79s 787ms/step - loss: 0.0589 - acc: 0.9775 - val_loss: 0.2078 - val_acc: 0.9330\n",
      "Epoch 51/100\n",
      "100/100 [==============================] - 79s 787ms/step - loss: 0.0527 - acc: 0.9810 - val_loss: 0.1843 - val_acc: 0.9370\n",
      "Epoch 52/100\n",
      "100/100 [==============================] - 79s 787ms/step - loss: 0.0551 - acc: 0.9770 - val_loss: 0.2601 - val_acc: 0.9290\n",
      "Epoch 53/100\n",
      "100/100 [==============================] - 79s 786ms/step - loss: 0.0542 - acc: 0.9790 - val_loss: 0.2145 - val_acc: 0.9360\n",
      "Epoch 54/100\n",
      "100/100 [==============================] - 79s 787ms/step - loss: 0.0447 - acc: 0.9810 - val_loss: 0.1978 - val_acc: 0.9410\n",
      "Epoch 55/100\n",
      "100/100 [==============================] - 79s 787ms/step - loss: 0.0404 - acc: 0.9875 - val_loss: 0.3156 - val_acc: 0.9220\n",
      "Epoch 56/100\n",
      "100/100 [==============================] - 79s 787ms/step - loss: 0.0418 - acc: 0.9865 - val_loss: 0.2106 - val_acc: 0.9390\n",
      "Epoch 57/100\n",
      "100/100 [==============================] - 79s 787ms/step - loss: 0.0500 - acc: 0.9820 - val_loss: 0.2018 - val_acc: 0.9380\n",
      "Epoch 58/100\n",
      "100/100 [==============================] - 79s 787ms/step - loss: 0.0388 - acc: 0.9875 - val_loss: 0.2352 - val_acc: 0.9300\n",
      "Epoch 59/100\n",
      "100/100 [==============================] - 79s 786ms/step - loss: 0.0501 - acc: 0.9815 - val_loss: 0.1915 - val_acc: 0.9430\n",
      "Epoch 60/100\n",
      "100/100 [==============================] - 79s 787ms/step - loss: 0.0440 - acc: 0.9840 - val_loss: 0.2018 - val_acc: 0.9330\n"
     ]
    },
    {
     "name": "stdout",
     "output_type": "stream",
     "text": [
      "Epoch 61/100\n",
      "100/100 [==============================] - 78s 783ms/step - loss: 0.0425 - acc: 0.9850 - val_loss: 0.2826 - val_acc: 0.9290\n",
      "Epoch 62/100\n",
      "100/100 [==============================] - 78s 784ms/step - loss: 0.0429 - acc: 0.9845 - val_loss: 0.1878 - val_acc: 0.9370\n",
      "Epoch 63/100\n",
      "100/100 [==============================] - 78s 784ms/step - loss: 0.0494 - acc: 0.9805 - val_loss: 0.2863 - val_acc: 0.9250\n",
      "Epoch 64/100\n",
      "100/100 [==============================] - 78s 783ms/step - loss: 0.0393 - acc: 0.9835 - val_loss: 0.2996 - val_acc: 0.9250\n",
      "Epoch 65/100\n",
      "100/100 [==============================] - 78s 784ms/step - loss: 0.0373 - acc: 0.9875 - val_loss: 0.2188 - val_acc: 0.9400\n",
      "Epoch 66/100\n",
      "100/100 [==============================] - 78s 785ms/step - loss: 0.0321 - acc: 0.9880 - val_loss: 0.2076 - val_acc: 0.9410\n",
      "Epoch 67/100\n",
      "100/100 [==============================] - 78s 783ms/step - loss: 0.0313 - acc: 0.9905 - val_loss: 0.2089 - val_acc: 0.9400\n",
      "Epoch 68/100\n",
      "100/100 [==============================] - 78s 784ms/step - loss: 0.0409 - acc: 0.9860 - val_loss: 0.2344 - val_acc: 0.9360\n",
      "Epoch 69/100\n",
      "100/100 [==============================] - 78s 784ms/step - loss: 0.0352 - acc: 0.9880 - val_loss: 0.2060 - val_acc: 0.9390\n",
      "Epoch 70/100\n",
      "100/100 [==============================] - 78s 784ms/step - loss: 0.0362 - acc: 0.9840 - val_loss: 0.2231 - val_acc: 0.9430\n",
      "Epoch 71/100\n",
      "100/100 [==============================] - 78s 784ms/step - loss: 0.0280 - acc: 0.9870 - val_loss: 0.1966 - val_acc: 0.9420\n",
      "Epoch 72/100\n",
      "100/100 [==============================] - 78s 784ms/step - loss: 0.0311 - acc: 0.9895 - val_loss: 0.2375 - val_acc: 0.9410\n",
      "Epoch 73/100\n",
      "100/100 [==============================] - 78s 784ms/step - loss: 0.0408 - acc: 0.9870 - val_loss: 0.2467 - val_acc: 0.9370\n",
      "Epoch 74/100\n",
      "100/100 [==============================] - 78s 785ms/step - loss: 0.0309 - acc: 0.9880 - val_loss: 0.2080 - val_acc: 0.9440\n",
      "Epoch 75/100\n",
      "100/100 [==============================] - 78s 784ms/step - loss: 0.0386 - acc: 0.9860 - val_loss: 0.1923 - val_acc: 0.9380\n",
      "Epoch 76/100\n",
      "100/100 [==============================] - 78s 783ms/step - loss: 0.0352 - acc: 0.9895 - val_loss: 0.2238 - val_acc: 0.9390\n",
      "Epoch 77/100\n",
      "100/100 [==============================] - 78s 784ms/step - loss: 0.0349 - acc: 0.9865 - val_loss: 0.2799 - val_acc: 0.9360\n",
      "Epoch 78/100\n",
      "100/100 [==============================] - 78s 784ms/step - loss: 0.0319 - acc: 0.9910 - val_loss: 0.2645 - val_acc: 0.9330\n",
      "Epoch 79/100\n",
      "100/100 [==============================] - 78s 783ms/step - loss: 0.0216 - acc: 0.9940 - val_loss: 0.2713 - val_acc: 0.9360\n",
      "Epoch 80/100\n",
      "100/100 [==============================] - 78s 784ms/step - loss: 0.0386 - acc: 0.9880 - val_loss: 0.2469 - val_acc: 0.9330\n",
      "Epoch 81/100\n",
      "100/100 [==============================] - 78s 784ms/step - loss: 0.0330 - acc: 0.9875 - val_loss: 0.2093 - val_acc: 0.9420\n",
      "Epoch 82/100\n",
      "100/100 [==============================] - 78s 783ms/step - loss: 0.0339 - acc: 0.9875 - val_loss: 0.2229 - val_acc: 0.9430\n",
      "Epoch 83/100\n",
      "100/100 [==============================] - 78s 784ms/step - loss: 0.0323 - acc: 0.9855 - val_loss: 0.2669 - val_acc: 0.9340\n",
      "Epoch 84/100\n",
      "100/100 [==============================] - 78s 784ms/step - loss: 0.0280 - acc: 0.9880 - val_loss: 0.2644 - val_acc: 0.9360\n",
      "Epoch 85/100\n",
      "100/100 [==============================] - 78s 784ms/step - loss: 0.0371 - acc: 0.9870 - val_loss: 0.2412 - val_acc: 0.9320\n",
      "Epoch 86/100\n",
      "100/100 [==============================] - 79s 787ms/step - loss: 0.0274 - acc: 0.9875 - val_loss: 0.2851 - val_acc: 0.9350\n",
      "Epoch 87/100\n",
      "100/100 [==============================] - 80s 798ms/step - loss: 0.0180 - acc: 0.9950 - val_loss: 0.2398 - val_acc: 0.9420\n",
      "Epoch 88/100\n",
      "100/100 [==============================] - 78s 781ms/step - loss: 0.0271 - acc: 0.9920 - val_loss: 0.2337 - val_acc: 0.9380\n",
      "Epoch 89/100\n",
      "100/100 [==============================] - 78s 781ms/step - loss: 0.0197 - acc: 0.9935 - val_loss: 0.2923 - val_acc: 0.9330\n",
      "Epoch 90/100\n",
      "100/100 [==============================] - 78s 780ms/step - loss: 0.0307 - acc: 0.9885 - val_loss: 0.2502 - val_acc: 0.9410\n",
      "Epoch 91/100\n",
      "100/100 [==============================] - 78s 780ms/step - loss: 0.0329 - acc: 0.9895 - val_loss: 0.3192 - val_acc: 0.9280\n",
      "Epoch 92/100\n",
      "100/100 [==============================] - 78s 780ms/step - loss: 0.0314 - acc: 0.9870 - val_loss: 0.2305 - val_acc: 0.9340\n",
      "Epoch 93/100\n",
      "100/100 [==============================] - 78s 781ms/step - loss: 0.0313 - acc: 0.9895 - val_loss: 0.2688 - val_acc: 0.9340\n",
      "Epoch 94/100\n",
      "100/100 [==============================] - 78s 781ms/step - loss: 0.0245 - acc: 0.9925 - val_loss: 0.2712 - val_acc: 0.9350\n",
      "Epoch 95/100\n",
      "100/100 [==============================] - 78s 780ms/step - loss: 0.0199 - acc: 0.9915 - val_loss: 0.2660 - val_acc: 0.9360\n",
      "Epoch 96/100\n",
      "100/100 [==============================] - 78s 780ms/step - loss: 0.0226 - acc: 0.9920 - val_loss: 0.2964 - val_acc: 0.9350\n",
      "Epoch 97/100\n",
      "100/100 [==============================] - 78s 780ms/step - loss: 0.0311 - acc: 0.9915 - val_loss: 0.2550 - val_acc: 0.9350\n",
      "Epoch 98/100\n",
      "100/100 [==============================] - 78s 781ms/step - loss: 0.0271 - acc: 0.9915 - val_loss: 0.2444 - val_acc: 0.9400\n",
      "Epoch 99/100\n",
      "100/100 [==============================] - 78s 781ms/step - loss: 0.0288 - acc: 0.9905 - val_loss: 0.4544 - val_acc: 0.9110\n",
      "Epoch 100/100\n",
      "100/100 [==============================] - 78s 780ms/step - loss: 0.0231 - acc: 0.9935 - val_loss: 0.3209 - val_acc: 0.9310\n"
     ]
    }
   ],
   "source": [
    "model.compile(loss='binary_crossentropy', optimizer=optimizers.RMSprop(lr=1e-5), metrics=['acc'])\n",
    "history = model.fit_generator(train_generator, steps_per_epoch=100, epochs=100, \n",
    "                              validation_data=validation_generator, validation_steps=50)"
   ]
  },
  {
   "cell_type": "code",
   "execution_count": 8,
   "metadata": {},
   "outputs": [
    {
     "data": {
      "image/png": "[encoded data removed]",
      "text/plain": [
       "<matplotlib.figure.Figure at 0x7f928cf7e590>"
      ]
     },
     "metadata": {},
     "output_type": "display_data"
    },
    {
     "data": {
      "image/png": "[encoded data removed]",
      "text/plain": [
       "<matplotlib.figure.Figure at 0x7f928cded7d0>"
      ]
     },
     "metadata": {},
     "output_type": "display_data"
    }
   ],
   "source": [
    "import matplotlib.pyplot as plt\n",
    "%matplotlib inline\n",
    "acc = history.history['acc']\n",
    "val_acc = history.history['val_acc']\n",
    "loss = history.history['loss']\n",
    "val_loss = history.history['val_loss']\n",
    "epochs = range(1, len(acc) + 1)\n",
    "plt.plot(epochs, acc, 'bo', label='Training acc')\n",
    "plt.plot(epochs, val_acc, 'b', label='Validation acc')\n",
    "plt.title('Training and validation accuracy')\n",
    "plt.legend()\n",
    "plt.figure()\n",
    "plt.plot(epochs, loss, 'bo', label='Training loss')\n",
    "plt.plot(epochs, val_loss, 'b', label='Validation loss')\n",
    "plt.title('Training and validation loss')\n",
    "plt.legend()\n",
    "plt.show()"
   ]
  },
  {
   "cell_type": "code",
   "execution_count": 10,
   "metadata": {},
   "outputs": [
    {
     "data": {
      "image/png": "[encoded data removed]",
      "text/plain": [
       "<matplotlib.figure.Figure at 0x7f928cddb2d0>"
      ]
     },
     "metadata": {},
     "output_type": "display_data"
    },
    {
     "data": {
      "image/png": "[encoded data removed]",
      "text/plain": [
       "<matplotlib.figure.Figure at 0x7f928c07ef90>"
      ]
     },
     "metadata": {},
     "output_type": "display_data"
    }
   ],
   "source": [
    "def smooth_curve(points, factor=0.8):\n",
    "    smoothed_points = []\n",
    "    for point in points:\n",
    "        if smoothed_points:\n",
    "            previous = smoothed_points[-1]\n",
    "            smoothed_points.append(previous * factor + point * (1 - factor))\n",
    "        else:\n",
    "            smoothed_points.append(point)\n",
    "    return smoothed_points\n",
    "plt.plot(epochs, smooth_curve(acc), 'bo', label='Smoothed training acc')\n",
    "plt.plot(epochs, smooth_curve(val_acc), 'b', label='Smoothed validation acc')\n",
    "plt.title('Training and validation accuracy')\n",
    "plt.legend()\n",
    "plt.figure()\n",
    "plt.plot(epochs, smooth_curve(loss), 'bo', label='Smoothed training loss')\n",
    "plt.plot(epochs, smooth_curve(val_loss), 'b', label='Smoothed validation loss')\n",
    "plt.title('Training and validation loss')\n",
    "plt.legend()\n",
    "plt.show()"
   ]
  },
  {
   "cell_type": "code",
   "execution_count": 9,
   "metadata": {},
   "outputs": [
    {
     "name": "stdout",
     "output_type": "stream",
     "text": [
      "Found 1000 images belonging to 2 classes.\n",
      "('test acc:', 0.9349999916553497)\n"
     ]
    }
   ],
   "source": [
    "test_generator = test_datagen.flow_from_directory(\n",
    "test_dir,\n",
    "target_size=(150, 150),\n",
    "batch_size=20,\n",
    "class_mode='binary')\n",
    "test_loss, test_acc = model.evaluate_generator(test_generator, steps=50)\n",
    "print('test acc:', test_acc)"
   ]
  },
  {
   "cell_type": "code",
   "execution_count": null,
   "metadata": {},
   "outputs": [],
   "source": []
  }
 ],
 "metadata": {
  "kernelspec": {
   "display_name": "Python 3",
   "language": "python",
   "name": "python3"
  },
  "language_info": {
   "codemirror_mode": {
    "name": "ipython",
    "version": 2
   },
   "file_extension": ".py",
   "mimetype": "text/x-python",
   "name": "python",
   "nbconvert_exporter": "python",
   "pygments_lexer": "ipython2",
   "version": "2.7.12"
  }
 },
 "nbformat": 4,
 "nbformat_minor": 2
}
